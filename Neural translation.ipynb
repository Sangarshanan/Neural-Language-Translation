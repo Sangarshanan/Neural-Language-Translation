{
 "cells": [
  {
   "cell_type": "markdown",
   "metadata": {},
   "source": [
    "  # Language Translation using Neural Networks \n",
    "\n"
   ]
  },
  {
   "cell_type": "code",
   "execution_count": 631,
   "metadata": {
    "collapsed": true
   },
   "outputs": [],
   "source": [
    "#Reading and preprocessing\n",
    "import pandas as pd\n",
    "import numpy as np"
   ]
  },
  {
   "cell_type": "markdown",
   "metadata": {},
   "source": [
    "![alt english-tamil](https://media.giphy.com/media/l0MYSYqm4Z2hVLR4Y/giphy.gif)\n"
   ]
  },
  {
   "cell_type": "code",
   "execution_count": 632,
   "metadata": {
    "collapsed": true
   },
   "outputs": [],
   "source": [
    "f = open('Tamil.txt', 'r+', encoding=\"utf8\")\n",
    "x = f.readlines()"
   ]
  },
  {
   "cell_type": "code",
   "execution_count": 633,
   "metadata": {
    "collapsed": true
   },
   "outputs": [],
   "source": [
    "f = open('English.txt', 'r+', encoding=\"utf8\")\n",
    "y = f.readlines()"
   ]
  },
  {
   "cell_type": "markdown",
   "metadata": {},
   "source": [
    "### I am using only 1000 examples to train pretty fast (I'm lazy FYI)"
   ]
  },
  {
   "cell_type": "code",
   "execution_count": 634,
   "metadata": {
    "collapsed": true
   },
   "outputs": [],
   "source": [
    "x = x[-1000:]"
   ]
  },
  {
   "cell_type": "code",
   "execution_count": 635,
   "metadata": {},
   "outputs": [
    {
     "data": {
      "text/plain": [
       "1000"
      ]
     },
     "execution_count": 635,
     "metadata": {},
     "output_type": "execute_result"
    }
   ],
   "source": [
    "len(x)"
   ]
  },
  {
   "cell_type": "code",
   "execution_count": 636,
   "metadata": {
    "collapsed": true
   },
   "outputs": [],
   "source": [
    "y = y[-1000:]"
   ]
  },
  {
   "cell_type": "markdown",
   "metadata": {},
   "source": [
    "### Text Pre-processing"
   ]
  },
  {
   "cell_type": "code",
   "execution_count": 637,
   "metadata": {
    "collapsed": true
   },
   "outputs": [],
   "source": [
    "x[0]= x[0].strip('\\ufeffMMA')\n",
    "y[0]= y[0].strip('\\ufeffMMA')"
   ]
  },
  {
   "cell_type": "code",
   "execution_count": 638,
   "metadata": {
    "collapsed": true
   },
   "outputs": [],
   "source": [
    "import string\n",
    "exclude = set(string.punctuation)\n",
    "for i in range(0,len(x)):\n",
    "    x[i] = x[i].strip('\\n')\n",
    "    x[i] = ''.join(ch for ch in x[i] if ch not in exclude)"
   ]
  },
  {
   "cell_type": "code",
   "execution_count": 639,
   "metadata": {
    "collapsed": true
   },
   "outputs": [],
   "source": [
    "for i in range(0,len(y)):\n",
    "    y[i] = y[i].lower()\n",
    "    y[i] = y[i].strip('\\n')\n",
    "    y[i] = ''.join(ch for ch in y[i] if ch not in exclude)"
   ]
  },
  {
   "cell_type": "markdown",
   "metadata": {},
   "source": [
    "### Cleaned text"
   ]
  },
  {
   "cell_type": "code",
   "execution_count": 640,
   "metadata": {},
   "outputs": [
    {
     "name": "stdout",
     "output_type": "stream",
     "text": [
      "Tamil Text: ஒரு நாட்டுப்புற மூச்சுவிடா பூசணிக்காய் பேசும் விதத்தில் மேர்க்கெல் சுருக்கமாக தன்னுடைய கிழக்கு ஜேர்மனித் தோற்றம் பற்றி குறிப்பிட்டு 20 ஆண்டுகளுக்கு முன்பு என்னுடைய தீவிர கற்பனைக் கனவுகளில்கூட அமெரிக்காவிற்கு பயணித்து காங்கிரஸில் உரையாற்றுவோம் என எதிர்பார்த்திருக்க முடியாது என்றார் \n",
      "\n",
      "English Text: in the manner of a breathless provincial bumpkin merkel briefly referred to her origins in former east germany and declared that 20 years ago she would never ‘‘in my wildest dreams have expected to travel to america and address congress\n"
     ]
    }
   ],
   "source": [
    "print(\"Tamil Text:\",x[1],\"\\n\")\n",
    "print(\"English Text:\",y[1])"
   ]
  },
  {
   "cell_type": "code",
   "execution_count": 641,
   "metadata": {},
   "outputs": [
    {
     "data": {
      "text/plain": [
       "1000"
      ]
     },
     "execution_count": 641,
     "metadata": {},
     "output_type": "execute_result"
    }
   ],
   "source": [
    "len(x)"
   ]
  },
  {
   "cell_type": "code",
   "execution_count": 642,
   "metadata": {},
   "outputs": [
    {
     "data": {
      "text/plain": [
       "1000"
      ]
     },
     "execution_count": 642,
     "metadata": {},
     "output_type": "execute_result"
    }
   ],
   "source": [
    "len(y)"
   ]
  },
  {
   "cell_type": "code",
   "execution_count": 643,
   "metadata": {
    "collapsed": true
   },
   "outputs": [],
   "source": [
    "english_words = []\n",
    "for i in range(0,len(y)):\n",
    "    english_words.append(y[i].split())   "
   ]
  },
  {
   "cell_type": "code",
   "execution_count": 644,
   "metadata": {
    "collapsed": true
   },
   "outputs": [],
   "source": [
    "english_words = [j for sub in english_words for j in sub]"
   ]
  },
  {
   "cell_type": "code",
   "execution_count": 645,
   "metadata": {},
   "outputs": [
    {
     "name": "stdout",
     "output_type": "stream",
     "text": [
      "Number of Unique English words: 5520\n"
     ]
    }
   ],
   "source": [
    "print(\"Number of Unique English words:\",len(set(english_words)))"
   ]
  },
  {
   "cell_type": "code",
   "execution_count": 646,
   "metadata": {
    "collapsed": true
   },
   "outputs": [],
   "source": [
    "tamil_words = []\n",
    "for i in range(0,len(x)):\n",
    "    tamil_words.append(x[i].split())  \n",
    "tamil_words = [j for sub in tamil_words for j in sub]"
   ]
  },
  {
   "cell_type": "code",
   "execution_count": 647,
   "metadata": {},
   "outputs": [
    {
     "name": "stdout",
     "output_type": "stream",
     "text": [
      "Number of Unique Tamil words: 9413\n"
     ]
    }
   ],
   "source": [
    "print(\"Number of Unique Tamil words:\",len(set(tamil_words)))"
   ]
  },
  {
   "cell_type": "code",
   "execution_count": 648,
   "metadata": {
    "collapsed": true
   },
   "outputs": [],
   "source": [
    "tamilvocab = len(set(tamil_words))\n",
    "engvocab = len(set(english_words))"
   ]
  },
  {
   "cell_type": "markdown",
   "metadata": {},
   "source": [
    "### Looks like there are more number of unique words in Tamil.....as expected"
   ]
  },
  {
   "cell_type": "code",
   "execution_count": 649,
   "metadata": {
    "collapsed": true
   },
   "outputs": [],
   "source": [
    "length_tamil=[]\n",
    "for i in range(0,len(x)):\n",
    "    length_tamil.append(len(x[i].split()))"
   ]
  },
  {
   "cell_type": "code",
   "execution_count": 650,
   "metadata": {
    "collapsed": true
   },
   "outputs": [],
   "source": [
    "length_english=[]\n",
    "for i in range(0,len(y)):\n",
    "    length_english.append(len(y[i].split()))"
   ]
  },
  {
   "cell_type": "markdown",
   "metadata": {},
   "source": [
    "### Average number of words in each sentence"
   ]
  },
  {
   "cell_type": "code",
   "execution_count": 651,
   "metadata": {},
   "outputs": [
    {
     "data": {
      "text/plain": [
       "23.58"
      ]
     },
     "execution_count": 651,
     "metadata": {},
     "output_type": "execute_result"
    }
   ],
   "source": [
    "sum(length_english)/len(length_english)"
   ]
  },
  {
   "cell_type": "code",
   "execution_count": 652,
   "metadata": {},
   "outputs": [
    {
     "data": {
      "text/plain": [
       "16.242"
      ]
     },
     "execution_count": 652,
     "metadata": {},
     "output_type": "execute_result"
    }
   ],
   "source": [
    "sum(length_tamil)/len(length_tamil)"
   ]
  },
  {
   "cell_type": "code",
   "execution_count": 653,
   "metadata": {},
   "outputs": [
    {
     "name": "stdout",
     "output_type": "stream",
     "text": [
      "74\n",
      "54\n"
     ]
    }
   ],
   "source": [
    "print(max(length_english))\n",
    "print(max(length_tamil))"
   ]
  },
  {
   "cell_type": "code",
   "execution_count": 654,
   "metadata": {
    "collapsed": true
   },
   "outputs": [],
   "source": [
    "import collections\n",
    "english_words_counter = collections.Counter([word for sentence in y for word in sentence.split()])\n",
    "tamil_words_counter = collections.Counter([word for sentence in x for word in sentence.split()])"
   ]
  },
  {
   "cell_type": "markdown",
   "metadata": {},
   "source": [
    "### Most common words in both languages"
   ]
  },
  {
   "cell_type": "code",
   "execution_count": 655,
   "metadata": {},
   "outputs": [
    {
     "data": {
      "text/plain": [
       "[('the', 1947),\n",
       " ('of', 880),\n",
       " ('and', 841),\n",
       " ('to', 659),\n",
       " ('in', 582),\n",
       " ('a', 412),\n",
       " ('that', 287),\n",
       " ('is', 276),\n",
       " ('for', 222),\n",
       " ('on', 180)]"
      ]
     },
     "execution_count": 655,
     "metadata": {},
     "output_type": "execute_result"
    }
   ],
   "source": [
    "english_words_counter.most_common(10)"
   ]
  },
  {
   "cell_type": "code",
   "execution_count": 656,
   "metadata": {},
   "outputs": [
    {
     "data": {
      "text/plain": [
       "[('ஒரு', 165),\n",
       " ('மற்றும்', 143),\n",
       " ('என்று', 126),\n",
       " ('இந்த', 79),\n",
       " ('என்ற', 70),\n",
       " ('அவர்', 68),\n",
       " ('அவர்கள்', 53),\n",
       " ('அது', 52),\n",
       " ('என', 49),\n",
       " ('அரசியல்', 47)]"
      ]
     },
     "execution_count": 656,
     "metadata": {},
     "output_type": "execute_result"
    }
   ],
   "source": [
    "tamil_words_counter.most_common(10)"
   ]
  },
  {
   "cell_type": "markdown",
   "metadata": {},
   "source": [
    "# Tokenizer:\n",
    "\n",
    "Now that our corpus is ready we have to represent it in a way that the neural network can understand, So we convert the text representation to number representation. In words based representation each word his assigned a number abd in character based representation each character is assigned a number. I am using a word level model for its simpler complexity\n",
    "\n",
    "Keras Tokenizer simplifies the representation process for us (This class allows to vectorize a text corpus, by turning each text into either a sequence of integers)\n"
   ]
  },
  {
   "cell_type": "markdown",
   "metadata": {},
   "source": [
    "###  Setting gpu use to 0.3 as maximum gpu usage by CUDA results in internal error "
   ]
  },
  {
   "cell_type": "code",
   "execution_count": 657,
   "metadata": {},
   "outputs": [],
   "source": [
    "import tensorflow as tf\n",
    "from keras.backend.tensorflow_backend import set_session\n",
    "config = tf.ConfigProto()\n",
    "config.gpu_options.per_process_gpu_memory_fraction = 0.3\n",
    "set_session(tf.Session(config=config))"
   ]
  },
  {
   "cell_type": "code",
   "execution_count": 658,
   "metadata": {
    "collapsed": true
   },
   "outputs": [],
   "source": [
    "from keras.preprocessing.text import Tokenizer\n",
    "def tokenize(x):\n",
    "    tokenizer = Tokenizer()\n",
    "    tokenizer.fit_on_texts(x) \n",
    "    return tokenizer.texts_to_sequences(x), tokenizer"
   ]
  },
  {
   "cell_type": "code",
   "execution_count": 659,
   "metadata": {},
   "outputs": [
    {
     "data": {
      "text/plain": [
       "'அவன் தண்ணீரண்டையிலே நாட்டப்பட்டதும் கால்வாய் ஓரமாகத்தன்வேர்களை விடுகிறதும் உஷ்ணம் வருகிறதைக் காணாமல் இலை பச்சையாயிருக்கிறதும் மழைத்தாழ்ச்சியான வருஷத்திலும் வருத்தமின்றித் தப்பாமல் கனிகொடுக்கிறதுமான மரத்தைப்போலிருப்பான்'"
      ]
     },
     "execution_count": 659,
     "metadata": {},
     "output_type": "execute_result"
    }
   ],
   "source": [
    "x[0]"
   ]
  },
  {
   "cell_type": "code",
   "execution_count": 660,
   "metadata": {},
   "outputs": [
    {
     "data": {
      "text/plain": [
       "[1,\n",
       " 1982,\n",
       " 1983,\n",
       " 1984,\n",
       " 960,\n",
       " 605,\n",
       " 961,\n",
       " 962,\n",
       " 33,\n",
       " 216,\n",
       " 1985,\n",
       " 963,\n",
       " 18,\n",
       " 964,\n",
       " 328,\n",
       " 217,\n",
       " 218,\n",
       " 965,\n",
       " 606,\n",
       " 1986,\n",
       " 1987,\n",
       " 607,\n",
       " 1988,\n",
       " 1989,\n",
       " 1990,\n",
       " 9,\n",
       " 1991,\n",
       " 88,\n",
       " 48]"
      ]
     },
     "execution_count": 660,
     "metadata": {},
     "output_type": "execute_result"
    }
   ],
   "source": [
    "z=(tokenize(x))\n",
    "z[0][1]"
   ]
  },
  {
   "cell_type": "code",
   "execution_count": 661,
   "metadata": {},
   "outputs": [
    {
     "name": "stdout",
     "output_type": "stream",
     "text": [
      "{'the': 1, 'quick': 2, 'brown': 3, 'fox': 4, 'jumps': 5, 'over': 6, 'lazy': 7, 'dog': 8, 'by': 9, 'jove': 10, 'my': 11, 'study': 12, 'of': 13, 'lexicography': 14, 'won': 15, 'a': 16, 'prize': 17}\n",
      "\n",
      "Sequence 1 in x\n",
      "  Input:  The quick brown fox jumps over the lazy dog .\n",
      "  Output: [1, 2, 3, 4, 5, 6, 1, 7, 8]\n",
      "Sequence 2 in x\n",
      "  Input:  By Jove , my quick study of lexicography won a prize .\n",
      "  Output: [9, 10, 11, 2, 12, 13, 14, 15, 16, 17]\n"
     ]
    }
   ],
   "source": [
    "text_sentences = [\n",
    "    'The quick brown fox jumps over the lazy dog .',\n",
    "    'By Jove , my quick study of lexicography won a prize .',]\n",
    "text_tokenized, text_tokenizer = tokenize(text_sentences)\n",
    "print(text_tokenizer.word_index)\n",
    "print()\n",
    "for sample_i, (sent, token_sent) in enumerate(zip(text_sentences, text_tokenized)):\n",
    "    print('Sequence {} in x'.format(sample_i + 1))\n",
    "    print('  Input:  {}'.format(sent))\n",
    "    print('  Output: {}'.format(token_sent))"
   ]
  },
  {
   "cell_type": "markdown",
   "metadata": {},
   "source": [
    "# Padding:\n",
    "\n",
    "When batching the sequence of word ids together, each sequence needs to be the same length. Since sentences are dynamic in length, we can add padding to the end of the sequences to make them the same length.\n",
    "\n",
    "\n"
   ]
  },
  {
   "cell_type": "code",
   "execution_count": 662,
   "metadata": {
    "collapsed": true
   },
   "outputs": [],
   "source": [
    "from keras.preprocessing.sequence import pad_sequences\n",
    "def pad(x, length=None):\n",
    "    return pad_sequences(x, maxlen=length, padding='post')"
   ]
  },
  {
   "cell_type": "markdown",
   "metadata": {},
   "source": [
    "![alt padding](https://media.giphy.com/media/5QMOHnyNUgRtWfKirc/giphy.gif)"
   ]
  },
  {
   "cell_type": "code",
   "execution_count": 663,
   "metadata": {},
   "outputs": [
    {
     "name": "stdout",
     "output_type": "stream",
     "text": [
      "OUTPUT IS ALWAYS A LENGTH 10 ARRAY....FILLED BY 0s IN THE END\n",
      "Sequence 1 in x\n",
      "  Input:  [1 2 3 4 5 6 1 7 8]\n",
      "  Output: [1 2 3 4 5 6 1 7 8 0]\n",
      "Sequence 2 in x\n",
      "  Input:  [ 9 10 11  2 12 13 14 15 16 17]\n",
      "  Output: [ 9 10 11  2 12 13 14 15 16 17]\n"
     ]
    }
   ],
   "source": [
    "test_pad = pad(text_tokenized)\n",
    "print(\"OUTPUT IS ALWAYS A LENGTH 10 ARRAY....FILLED BY 0s IN THE END\")\n",
    "for sample_i, (token_sent, pad_sent) in enumerate(zip(text_tokenized, test_pad)):\n",
    "    print('Sequence {} in x'.format(sample_i + 1))\n",
    "    print('  Input:  {}'.format(np.array(token_sent)))\n",
    "    print('  Output: {}'.format(pad_sent))"
   ]
  },
  {
   "cell_type": "markdown",
   "metadata": {},
   "source": [
    "### Apply all the tested preprocessing functions to our corpus"
   ]
  },
  {
   "cell_type": "code",
   "execution_count": 664,
   "metadata": {
    "collapsed": true
   },
   "outputs": [],
   "source": [
    "def preprocess(x, y):\n",
    "    preprocess_x, x_tk = tokenize(x)\n",
    "    preprocess_y, y_tk = tokenize(y)\n",
    "\n",
    "    preprocess_x = pad(preprocess_x)\n",
    "    preprocess_y = pad(preprocess_y)\n",
    "\n",
    "    print('shape before: ', preprocess_y.shape)\n",
    "    preprocess_y = preprocess_y.reshape(*preprocess_y.shape, 1)\n",
    "    print('shape after: ', preprocess_y.shape)\n",
    "        \n",
    "    return preprocess_x, preprocess_y, x_tk, y_tk"
   ]
  },
  {
   "cell_type": "code",
   "execution_count": null,
   "metadata": {},
   "outputs": [],
   "source": []
  },
  {
   "cell_type": "code",
   "execution_count": 665,
   "metadata": {},
   "outputs": [
    {
     "data": {
      "text/plain": [
       "(1000, 54)"
      ]
     },
     "execution_count": 665,
     "metadata": {},
     "output_type": "execute_result"
    }
   ],
   "source": [
    "preprocess_x, x_tk = tokenize(x)\n",
    "preprocess_x = pad(preprocess_x)\n",
    "preprocess_x.shape"
   ]
  },
  {
   "cell_type": "code",
   "execution_count": 666,
   "metadata": {},
   "outputs": [
    {
     "name": "stdout",
     "output_type": "stream",
     "text": [
      "shape before:  (1000, 74)\n",
      "shape after:  (1000, 74, 1)\n"
     ]
    }
   ],
   "source": [
    "preproc_tamil_sentences, preproc_english_sentences, tamil_tokenizer, english_tokenizer =\\\n",
    "    preprocess(x, y)"
   ]
  },
  {
   "cell_type": "markdown",
   "metadata": {},
   "source": [
    "## Assigning a number to each word"
   ]
  },
  {
   "cell_type": "code",
   "execution_count": 667,
   "metadata": {},
   "outputs": [
    {
     "data": {
      "text/plain": [
       "[('ஒரு', 1), ('மற்றும்', 2), ('என்று', 3), ('இந்த', 4), ('என்ற', 5)]"
      ]
     },
     "execution_count": 667,
     "metadata": {},
     "output_type": "execute_result"
    }
   ],
   "source": [
    "list(tamil_tokenizer.word_index.items())[:5]"
   ]
  },
  {
   "cell_type": "code",
   "execution_count": 668,
   "metadata": {},
   "outputs": [
    {
     "data": {
      "text/plain": [
       "[('the', 1), ('of', 2), ('and', 3), ('to', 4), ('in', 5)]"
      ]
     },
     "execution_count": 668,
     "metadata": {},
     "output_type": "execute_result"
    }
   ],
   "source": [
    "list(english_tokenizer.word_index.items())[:5]"
   ]
  },
  {
   "cell_type": "markdown",
   "metadata": {},
   "source": [
    "# Logits to text\n",
    "\n",
    "The neural network will be translating the input to words ids, which isn't the final form we want. We want the Tamil translation. The function logits_to_text will bridge the gab between the logits from the neural network to the Tamil translation.\n",
    "\n"
   ]
  },
  {
   "cell_type": "code",
   "execution_count": 669,
   "metadata": {
    "collapsed": true
   },
   "outputs": [],
   "source": [
    "def logits_to_text(logits, tokenizer):\n",
    "\n",
    "    index_to_words = {id: word for word, id in tokenizer.word_index.items()}\n",
    "    index_to_words[0] = '<PAD>'\n",
    "\n",
    "    return ' '.join([index_to_words[prediction] for prediction in np.argmax(logits, 1)])"
   ]
  },
  {
   "cell_type": "code",
   "execution_count": 670,
   "metadata": {
    "collapsed": true
   },
   "outputs": [],
   "source": [
    "import os\n",
    "from keras.models import load_model\n",
    "import numpy as np"
   ]
  },
  {
   "cell_type": "code",
   "execution_count": 671,
   "metadata": {
    "scrolled": true
   },
   "outputs": [
    {
     "name": "stdout",
     "output_type": "stream",
     "text": [
      "tamil_sentences shape:  (1000, 74, 1)\n",
      "english_sentences  shape:  (1000, 54)\n",
      "output sequence length:  74\n"
     ]
    }
   ],
   "source": [
    "print(\"tamil_sentences shape: \", preproc_english_sentences.shape)\n",
    "print(\"english_sentences  shape: \", preproc_tamil_sentences.shape)\n",
    "print('output sequence length: ', preproc_english_sentences.shape[1])"
   ]
  },
  {
   "cell_type": "code",
   "execution_count": 672,
   "metadata": {
    "collapsed": true
   },
   "outputs": [],
   "source": [
    "tmp_x = pad(preproc_tamil_sentences, preproc_english_sentences.shape[1])\n",
    "tmp_x = tmp_x.reshape((-1, preproc_english_sentences.shape[-2], 1))"
   ]
  },
  {
   "cell_type": "code",
   "execution_count": 673,
   "metadata": {},
   "outputs": [
    {
     "data": {
      "text/plain": [
       "(1000, 74, 1)"
      ]
     },
     "execution_count": 673,
     "metadata": {},
     "output_type": "execute_result"
    }
   ],
   "source": [
    "tmp_x.shape"
   ]
  },
  {
   "cell_type": "code",
   "execution_count": 674,
   "metadata": {
    "collapsed": true
   },
   "outputs": [],
   "source": [
    "from keras.layers import GRU, Input, Dense, TimeDistributed\n",
    "from keras.models import Model, Sequential\n",
    "from keras.layers import Activation\n",
    "from keras.optimizers import Adam\n",
    "from keras.losses import sparse_categorical_crossentropy\n",
    "\n",
    "\n",
    "def simple_model(input_shape, output_sequence_length, tamil_vocab_size, english_vocab_size, learning_rate=0.1):\n",
    "    model = Sequential()\n",
    "    model.add(GRU(128, dropout=0.1,input_shape=input_shape[1:], return_sequences=True) )\n",
    "    model.add(TimeDistributed(Dense(english_vocab_size, activation='softmax') ))\n",
    "    print('######## Summary ###########')\n",
    "    model.summary()\n",
    "    \n",
    "    model.compile(loss=sparse_categorical_crossentropy,\n",
    "                  optimizer=Adam(learning_rate),\n",
    "                  metrics=['accuracy'])\n",
    "    return model"
   ]
  },
  {
   "cell_type": "markdown",
   "metadata": {},
   "source": [
    " <h2 align = \"center\"> Let the Training Begin </h2>\n",
    "\n",
    "\n",
    "\n",
    "![alt training](https://media.giphy.com/media/3oriOgivJPodK8Qg9O/giphy.gif)\n"
   ]
  },
  {
   "cell_type": "code",
   "execution_count": 675,
   "metadata": {},
   "outputs": [
    {
     "name": "stdout",
     "output_type": "stream",
     "text": [
      "######## Summary ###########\n",
      "_________________________________________________________________\n",
      "Layer (type)                 Output Shape              Param #   \n",
      "=================================================================\n",
      "gru_17 (GRU)                 (None, 74, 128)           49920     \n",
      "_________________________________________________________________\n",
      "time_distributed_15 (TimeDis (None, 74, 9414)          1214406   \n",
      "=================================================================\n",
      "Total params: 1,264,326\n",
      "Trainable params: 1,264,326\n",
      "Non-trainable params: 0\n",
      "_________________________________________________________________\n"
     ]
    }
   ],
   "source": [
    "simple_rnn_model = simple_model(\n",
    "    tmp_x.shape,\n",
    "    preproc_english_sentences.shape[1],\n",
    "    engvocab+1,\n",
    "    tamilvocab+1)\n",
    "\n",
    "###########LOAD MODEL IF IT EXISTS OR ELSE TRAIN THE MODEL################\n",
    "\n",
    "if os.path.exists(os.path.join(\"model\", \"translation.h5\"))== False:\n",
    "    rnn = simple_rnn_model.fit(tmp_x, preproc_english_sentences, batch_size=100, epochs=20, validation_split=0.2)\n",
    "else:\n",
    "    simple_rnn_model = load_model(os.path.join(\"model\", \"translation.h5\"))"
   ]
  },
  {
   "cell_type": "code",
   "execution_count": 676,
   "metadata": {},
   "outputs": [
    {
     "data": {
      "image/png": "[encoded data removed]",
      "text/plain": [
       "<Figure size 720x432 with 1 Axes>"
      ]
     },
     "metadata": {},
     "output_type": "display_data"
    }
   ],
   "source": [
    "import matplotlib.pyplot as plt\n",
    "plt.figure(figsize=(10,6))\n",
    "plt.plot(rnn.history['loss'])\n",
    "plt.plot(rnn.history['val_loss'])\n",
    "plt.title('Loss')\n",
    "plt.ylabel('loss')\n",
    "plt.xlabel('epoch')\n",
    "plt.legend(['train', 'test'], loc='upper left')\n",
    "plt.show()"
   ]
  },
  {
   "cell_type": "markdown",
   "metadata": {},
   "source": [
    "### Looks like there is no overfitting....\n",
    "\n",
    "![alt nice](https://media.giphy.com/media/yJFeycRK2DB4c/giphy.gif)"
   ]
  },
  {
   "cell_type": "markdown",
   "metadata": {},
   "source": [
    "## Save the model "
   ]
  },
  {
   "cell_type": "code",
   "execution_count": 677,
   "metadata": {
    "collapsed": true
   },
   "outputs": [],
   "source": [
    "simple_rnn_model.save(os.path.join(\"model\", \"translation.h5\"))"
   ]
  },
  {
   "cell_type": "code",
   "execution_count": 678,
   "metadata": {},
   "outputs": [],
   "source": [
    "## Save the model so that you can load it later "
   ]
  },
  {
   "cell_type": "code",
   "execution_count": null,
   "metadata": {},
   "outputs": [],
   "source": []
  },
  {
   "cell_type": "code",
   "execution_count": 679,
   "metadata": {},
   "outputs": [
    {
     "name": "stdout",
     "output_type": "stream",
     "text": [
      "Train accurancy:  0.6980270261764526\n"
     ]
    }
   ],
   "source": [
    "score = simple_rnn_model.evaluate(tmp_x, preproc_english_sentences, verbose=0)\n",
    "print(\"Train accurancy: \", score[1])"
   ]
  },
  {
   "cell_type": "code",
   "execution_count": 680,
   "metadata": {},
   "outputs": [
    {
     "data": {
      "text/plain": [
       "[3.098744831085205, 0.6980270261764526]"
      ]
     },
     "execution_count": 680,
     "metadata": {},
     "output_type": "execute_result"
    }
   ],
   "source": [
    "score"
   ]
  },
  {
   "cell_type": "markdown",
   "metadata": {
    "collapsed": true
   },
   "source": [
    "### Pretty decent for a small dataset"
   ]
  },
  {
   "cell_type": "code",
   "execution_count": 681,
   "metadata": {},
   "outputs": [
    {
     "data": {
      "text/plain": [
       "'விடுதலைப் பிரகடனம் போரின் இராணுவத் தேவைகளை ஒட்டி ஏற்பட்டது'"
      ]
     },
     "execution_count": 681,
     "metadata": {},
     "output_type": "execute_result"
    }
   ],
   "source": [
    "x[15]"
   ]
  },
  {
   "cell_type": "code",
   "execution_count": 682,
   "metadata": {
    "scrolled": true
   },
   "outputs": [
    {
     "name": "stdout",
     "output_type": "stream",
     "text": [
      "the the the the the the the <PAD> <PAD> <PAD> <PAD> <PAD> <PAD> <PAD> <PAD> <PAD> <PAD> <PAD> <PAD> <PAD> <PAD> <PAD> <PAD> <PAD> <PAD> <PAD> <PAD> <PAD> <PAD> <PAD> <PAD> <PAD> <PAD> <PAD> <PAD> <PAD> <PAD> <PAD> <PAD> <PAD> <PAD> <PAD> <PAD> <PAD> <PAD> <PAD> <PAD> <PAD> <PAD> <PAD> <PAD> <PAD> <PAD> <PAD> <PAD> <PAD> <PAD> <PAD> <PAD> <PAD> <PAD> <PAD> <PAD> <PAD> <PAD> <PAD> <PAD> <PAD> <PAD> <PAD> <PAD> <PAD> <PAD> <PAD>\n"
     ]
    }
   ],
   "source": [
    "## PRETTY BAD TRANSLATION :(\n",
    "print(logits_to_text(simple_rnn_model.predict(tmp_x[:100])[15], english_tokenizer))"
   ]
  },
  {
   "cell_type": "markdown",
   "metadata": {},
   "source": [
    "### \"The\" is being predicted for all words as it is the most common word....This is not ideal"
   ]
  },
  {
   "cell_type": "markdown",
   "metadata": {},
   "source": [
    "## So let us now try LSTM and include an embedding layer "
   ]
  },
  {
   "cell_type": "code",
   "execution_count": 683,
   "metadata": {
    "collapsed": true
   },
   "outputs": [],
   "source": [
    "from keras.layers.embeddings import Embedding\n",
    "from keras.layers import LSTM\n",
    "\n",
    "def embed_model(input_shape, output_sequence_length, tamil_vocab_size, english_vocab_size, learning_rate=0.1):\n",
    "    model = Sequential()\n",
    "    model.add(Embedding(max(tamil_vocab_size, english_vocab_size) ,128 , input_length=output_sequence_length))\n",
    "    model.add(LSTM(128, dropout=0.1, return_sequences=True))\n",
    "    model.add(Dense(english_vocab_size, activation='softmax'))\n",
    "    model.summary()\n",
    "    model.compile(loss=sparse_categorical_crossentropy,\n",
    "                  optimizer=Adam(learning_rate),\n",
    "                  metrics=['accuracy'])\n",
    "    \n",
    "    return model"
   ]
  },
  {
   "cell_type": "code",
   "execution_count": 684,
   "metadata": {
    "collapsed": true
   },
   "outputs": [],
   "source": [
    "#reshaping the input for processing embeddings\n",
    "tmp_x = pad(preproc_tamil_sentences, preproc_english_sentences.shape[1])"
   ]
  },
  {
   "cell_type": "code",
   "execution_count": 685,
   "metadata": {},
   "outputs": [
    {
     "data": {
      "text/plain": [
       "(1000, 74)"
      ]
     },
     "execution_count": 685,
     "metadata": {},
     "output_type": "execute_result"
    }
   ],
   "source": [
    "tmp_x.shape"
   ]
  },
  {
   "cell_type": "code",
   "execution_count": null,
   "metadata": {},
   "outputs": [],
   "source": []
  },
  {
   "cell_type": "code",
   "execution_count": 686,
   "metadata": {},
   "outputs": [
    {
     "name": "stdout",
     "output_type": "stream",
     "text": [
      "_________________________________________________________________\n",
      "Layer (type)                 Output Shape              Param #   \n",
      "=================================================================\n",
      "embedding_5 (Embedding)      (None, 74, 128)           1204736   \n",
      "_________________________________________________________________\n",
      "lstm_6 (LSTM)                (None, 74, 128)           131584    \n",
      "_________________________________________________________________\n",
      "dense_20 (Dense)             (None, 74, 5520)          712080    \n",
      "=================================================================\n",
      "Total params: 2,048,400\n",
      "Trainable params: 2,048,400\n",
      "Non-trainable params: 0\n",
      "_________________________________________________________________\n",
      "Train on 800 samples, validate on 200 samples\n",
      "Epoch 1/20\n",
      "800/800 [==============================] - 14s 17ms/step - loss: 4.6253 - acc: 0.5872 - val_loss: 3.5627 - val_acc: 0.6884\n",
      "Epoch 2/20\n",
      "800/800 [==============================] - 10s 13ms/step - loss: 3.7050 - acc: 0.5347 - val_loss: 3.6048 - val_acc: 0.6932\n",
      "Epoch 3/20\n",
      "800/800 [==============================] - 10s 13ms/step - loss: 2.7167 - acc: 0.6919 - val_loss: 3.0461 - val_acc: 0.6880\n",
      "Epoch 4/20\n",
      "800/800 [==============================] - 10s 13ms/step - loss: 2.4664 - acc: 0.6957 - val_loss: 3.0300 - val_acc: 0.6905\n",
      "Epoch 5/20\n",
      "800/800 [==============================] - 10s 13ms/step - loss: 2.2654 - acc: 0.6980 - val_loss: 2.9709 - val_acc: 0.6916\n",
      "Epoch 6/20\n",
      "800/800 [==============================] - 10s 13ms/step - loss: 2.0660 - acc: 0.7016 - val_loss: 2.9738 - val_acc: 0.6894\n",
      "Epoch 7/20\n",
      "800/800 [==============================] - 11s 13ms/step - loss: 1.9145 - acc: 0.7060 - val_loss: 3.0108 - val_acc: 0.6876\n",
      "Epoch 8/20\n",
      "800/800 [==============================] - 10s 13ms/step - loss: 1.7806 - acc: 0.7152 - val_loss: 3.0399 - val_acc: 0.6859\n",
      "Epoch 9/20\n",
      "800/800 [==============================] - 10s 13ms/step - loss: 1.6612 - acc: 0.7268 - val_loss: 3.0963 - val_acc: 0.6852\n",
      "Epoch 10/20\n",
      "800/800 [==============================] - 10s 13ms/step - loss: 1.5526 - acc: 0.7375 - val_loss: 3.1373 - val_acc: 0.6837\n",
      "Epoch 11/20\n",
      "800/800 [==============================] - 10s 13ms/step - loss: 1.4577 - acc: 0.7498 - val_loss: 3.1879 - val_acc: 0.6777\n",
      "Epoch 12/20\n",
      "800/800 [==============================] - 10s 13ms/step - loss: 1.3836 - acc: 0.7591 - val_loss: 3.2156 - val_acc: 0.6811\n",
      "Epoch 13/20\n",
      "800/800 [==============================] - 10s 13ms/step - loss: 1.3173 - acc: 0.7699 - val_loss: 3.2563 - val_acc: 0.6813\n",
      "Epoch 14/20\n",
      "800/800 [==============================] - 10s 13ms/step - loss: 1.2533 - acc: 0.7790 - val_loss: 3.2925 - val_acc: 0.6803\n",
      "Epoch 15/20\n",
      "800/800 [==============================] - 10s 13ms/step - loss: 1.2127 - acc: 0.7847 - val_loss: 3.2992 - val_acc: 0.6802\n",
      "Epoch 16/20\n",
      "800/800 [==============================] - 10s 13ms/step - loss: 1.1794 - acc: 0.7891 - val_loss: 3.3233 - val_acc: 0.6776\n",
      "Epoch 17/20\n",
      "800/800 [==============================] - 10s 13ms/step - loss: 1.1445 - acc: 0.7951 - val_loss: 3.3491 - val_acc: 0.6778\n",
      "Epoch 18/20\n",
      "800/800 [==============================] - 10s 13ms/step - loss: 1.1231 - acc: 0.7999 - val_loss: 3.3847 - val_acc: 0.6821\n",
      "Epoch 19/20\n",
      "800/800 [==============================] - 10s 13ms/step - loss: 1.1198 - acc: 0.7999 - val_loss: 3.4273 - val_acc: 0.6716\n",
      "Epoch 20/20\n",
      "800/800 [==============================] - 10s 13ms/step - loss: 1.0970 - acc: 0.8027 - val_loss: 3.3923 - val_acc: 0.6803\n"
     ]
    }
   ],
   "source": [
    "embed_rnn_model = embed_model(\n",
    "    tmp_x.shape,\n",
    "    preproc_english_sentences.shape[1],\n",
    "    len(tamil_tokenizer.word_index)+1,\n",
    "    len(english_tokenizer.word_index)+1)\n",
    "if os.path.exists(os.path.join(\"cache\", \"LSTM.h5\"))== False:\n",
    "    embedrnn = embed_rnn_model.fit(tmp_x, preproc_english_sentences, batch_size=100, epochs=20, validation_split=0.2)\n",
    "else:\n",
    "    embed_rnn_model = load_model(os.path.join(\"cache\", \"LSTM.h5\"))"
   ]
  },
  {
   "cell_type": "code",
   "execution_count": 687,
   "metadata": {
    "collapsed": true
   },
   "outputs": [],
   "source": [
    "embed_rnn_model.save(os.path.join(\"model\", \"LSTM.h5\"))"
   ]
  },
  {
   "cell_type": "code",
   "execution_count": 688,
   "metadata": {},
   "outputs": [
    {
     "data": {
      "image/png": "[encoded data removed]",
      "text/plain": [
       "<Figure size 720x432 with 1 Axes>"
      ]
     },
     "metadata": {},
     "output_type": "display_data"
    }
   ],
   "source": [
    "import matplotlib.pyplot as plt\n",
    "plt.figure(figsize=(10,6))\n",
    "plt.plot(embedrnn.history['loss'])\n",
    "plt.plot(embedrnn.history['val_loss'])\n",
    "plt.title('Loss')\n",
    "plt.ylabel('loss')\n",
    "plt.xlabel('epoch')\n",
    "plt.legend(['train', 'test'], loc='upper left')\n",
    "plt.show()"
   ]
  },
  {
   "cell_type": "markdown",
   "metadata": {},
   "source": [
    "### Validation loss seems to converge much faster"
   ]
  },
  {
   "cell_type": "code",
   "execution_count": 689,
   "metadata": {},
   "outputs": [
    {
     "name": "stdout",
     "output_type": "stream",
     "text": [
      "Train accurancy:  0.7971756777763367\n"
     ]
    }
   ],
   "source": [
    "score = embed_rnn_model.evaluate(tmp_x, preproc_english_sentences, verbose=0)\n",
    "print(\"Train accurancy: \", score[1])"
   ]
  },
  {
   "cell_type": "code",
   "execution_count": 690,
   "metadata": {},
   "outputs": [
    {
     "data": {
      "text/plain": [
       "'விடுதலைப் பிரகடனம் போரின் இராணுவத் தேவைகளை ஒட்டி ஏற்பட்டது'"
      ]
     },
     "execution_count": 690,
     "metadata": {},
     "output_type": "execute_result"
    }
   ],
   "source": [
    "x[15]"
   ]
  },
  {
   "cell_type": "code",
   "execution_count": 691,
   "metadata": {},
   "outputs": [
    {
     "name": "stdout",
     "output_type": "stream",
     "text": [
      "united emancipation and strength necessitated by the 2006 <PAD> <PAD> <PAD> <PAD> <PAD> <PAD> <PAD> <PAD> <PAD> <PAD> <PAD> <PAD> <PAD> <PAD> <PAD> <PAD> <PAD> <PAD> <PAD> <PAD> <PAD> <PAD> <PAD> <PAD> <PAD> <PAD> <PAD> <PAD> <PAD> <PAD> <PAD> <PAD> <PAD> <PAD> <PAD> <PAD> <PAD> <PAD> <PAD> <PAD> <PAD> <PAD> <PAD> <PAD> <PAD> <PAD> <PAD> <PAD> <PAD> <PAD> <PAD> <PAD> <PAD> <PAD> <PAD> <PAD> <PAD> <PAD> <PAD> <PAD> <PAD> <PAD> <PAD> <PAD> <PAD> <PAD>\n"
     ]
    }
   ],
   "source": [
    "print(logits_to_text(embed_rnn_model.predict(tmp_x[:16])[15], english_tokenizer))"
   ]
  },
  {
   "cell_type": "markdown",
   "metadata": {},
   "source": [
    "### Not perfect but atleast the stopwords stopped repeating themselves\n",
    "- விடுதலைப் was correctly translated as emancipation \n",
    "- தேவைகளை was translated as necessitated  which is pretty also good"
   ]
  },
  {
   "cell_type": "code",
   "execution_count": 692,
   "metadata": {},
   "outputs": [
    {
     "data": {
      "text/plain": [
       "'பள்ளி மாணவர்கள் மற்றும் பல்கலைக்கழக மாணவர்கள் பிரான்ஸ் நெடுகிலும் நெடுஞ்சாலைகள் வீதிகள் ஆகியவற்றை தடுப்புக்களுக்கு உட்படுத்திய வகையில் நேற்று இன்னும் கூடுதலான கைதுகள் நிகழ்த்தப்பட்டன'"
      ]
     },
     "execution_count": 692,
     "metadata": {},
     "output_type": "execute_result"
    }
   ],
   "source": [
    "x[10]"
   ]
  },
  {
   "cell_type": "code",
   "execution_count": 693,
   "metadata": {},
   "outputs": [
    {
     "name": "stdout",
     "output_type": "stream",
     "text": [
      "further arrests stagnant reported yesterday us high school the all to blockaded roads and highways disrupting traffic across in the the the the <PAD> <PAD> <PAD> <PAD> <PAD> <PAD> <PAD> <PAD> <PAD> <PAD> <PAD> <PAD> <PAD> <PAD> <PAD> <PAD> <PAD> <PAD> <PAD> <PAD> <PAD> <PAD> <PAD> <PAD> <PAD> <PAD> <PAD> <PAD> <PAD> <PAD> <PAD> <PAD> <PAD> <PAD> <PAD> <PAD> <PAD> <PAD> <PAD> <PAD> <PAD> <PAD> <PAD> <PAD> <PAD> <PAD> <PAD> <PAD> <PAD> <PAD> <PAD>\n"
     ]
    }
   ],
   "source": [
    "print(logits_to_text(embed_rnn_model.predict(tmp_x[:100])[10], english_tokenizer))"
   ]
  },
  {
   "cell_type": "markdown",
   "metadata": {},
   "source": [
    "### The translation is almost perfect \n",
    "\n",
    "-  பள்ளி மாணவர்கள் மற்றும் பல்கலைக்கழக மாணவர்கள் is translated as high school and university students\n",
    "- நெடுஞ்சாலைகள் வீதிகள் ஆகியவற்றை தடுப்புக்களுக்கு உட்படுத்திய is translated as blockaded roads the highways disrupting traffic "
   ]
  },
  {
   "cell_type": "code",
   "execution_count": 694,
   "metadata": {},
   "outputs": [
    {
     "data": {
      "text/plain": [
       "(74,)"
      ]
     },
     "execution_count": 694,
     "metadata": {},
     "output_type": "execute_result"
    }
   ],
   "source": [
    "(tmp_x[:100][10]).shape"
   ]
  },
  {
   "cell_type": "markdown",
   "metadata": {},
   "source": [
    "## Let us try with our own data"
   ]
  },
  {
   "cell_type": "code",
   "execution_count": 695,
   "metadata": {},
   "outputs": [
    {
     "data": {
      "text/plain": [
       "10"
      ]
     },
     "execution_count": 695,
     "metadata": {},
     "output_type": "execute_result"
    }
   ],
   "source": [
    "tamil_tokenizer.word_index['அரசியல்']"
   ]
  },
  {
   "cell_type": "code",
   "execution_count": 696,
   "metadata": {},
   "outputs": [],
   "source": [
    "a = []\n",
    "t = [0] * 74\n",
    "s = [0] * 74"
   ]
  },
  {
   "cell_type": "code",
   "execution_count": 697,
   "metadata": {},
   "outputs": [],
   "source": [
    "t[0] = 10\n",
    "a.append(t)\n",
    "a.append(s)"
   ]
  },
  {
   "cell_type": "code",
   "execution_count": 698,
   "metadata": {
    "scrolled": false
   },
   "outputs": [],
   "source": [
    "a=np.array(a)"
   ]
  },
  {
   "cell_type": "code",
   "execution_count": 699,
   "metadata": {},
   "outputs": [
    {
     "data": {
      "text/plain": [
       "array([10,  0,  0,  0,  0,  0,  0,  0,  0,  0,  0,  0,  0,  0,  0,  0,  0,\n",
       "        0,  0,  0,  0,  0,  0,  0,  0,  0,  0,  0,  0,  0,  0,  0,  0,  0,\n",
       "        0,  0,  0,  0,  0,  0,  0,  0,  0,  0,  0,  0,  0,  0,  0,  0,  0,\n",
       "        0,  0,  0,  0,  0,  0,  0,  0,  0,  0,  0,  0,  0,  0,  0,  0,  0,\n",
       "        0,  0,  0,  0,  0,  0])"
      ]
     },
     "execution_count": 699,
     "metadata": {},
     "output_type": "execute_result"
    }
   ],
   "source": [
    "a[:1][0]"
   ]
  },
  {
   "cell_type": "code",
   "execution_count": 700,
   "metadata": {},
   "outputs": [
    {
     "name": "stdout",
     "output_type": "stream",
     "text": [
      "the <PAD> <PAD> <PAD> <PAD> <PAD> <PAD> <PAD> <PAD> <PAD> <PAD> <PAD> <PAD> <PAD> <PAD> <PAD> <PAD> <PAD> <PAD> <PAD> <PAD> <PAD> <PAD> <PAD> <PAD> <PAD> <PAD> <PAD> <PAD> <PAD> <PAD> <PAD> <PAD> <PAD> <PAD> <PAD> <PAD> <PAD> <PAD> <PAD> <PAD> <PAD> <PAD> <PAD> <PAD> <PAD> <PAD> <PAD> <PAD> <PAD> <PAD> <PAD> <PAD> <PAD> <PAD> <PAD> <PAD> <PAD> <PAD> <PAD> <PAD> <PAD> <PAD> <PAD> <PAD> <PAD> <PAD> <PAD> <PAD> <PAD> <PAD> <PAD> <PAD> <PAD>\n"
     ]
    }
   ],
   "source": [
    "print(logits_to_text(embed_rnn_model.predict(a[:1])[0], english_tokenizer))"
   ]
  },
  {
   "cell_type": "markdown",
   "metadata": {},
   "source": [
    "### Overfitting is at play.....The model is responding badly to new information"
   ]
  },
  {
   "cell_type": "code",
   "execution_count": null,
   "metadata": {},
   "outputs": [],
   "source": []
  },
  {
   "cell_type": "markdown",
   "metadata": {},
   "source": [
    "# Bidirectional LSTM:\n",
    "\n",
    "One restriction of a LSTM is that it can't see the future input, only the past. This is where bidirectional recurrent neural networks come in. They are able to see the future data.\n",
    "\n"
   ]
  },
  {
   "cell_type": "markdown",
   "metadata": {},
   "source": [
    "![alt bidirectionalrnn](https://media.giphy.com/media/12lCEatBs3CABW/giphy.gif)"
   ]
  },
  {
   "cell_type": "code",
   "execution_count": 701,
   "metadata": {
    "collapsed": true
   },
   "outputs": [],
   "source": [
    "from keras.layers import Bidirectional\n",
    "def birnn_model(input_shape, output_sequence_length, tamil_vocab_size, english_vocab_size, learning_rate=0.1):\n",
    "    model = Sequential()\n",
    "    model.add(Bidirectional(LSTM(128, return_sequences=True, dropout=0.1),\n",
    "                        input_shape=input_shape[1:]))\n",
    "    \n",
    "    model.add(TimeDistributed(Dense(english_vocab_size, activation='softmax') ))\n",
    "    model.summary() \n",
    "    model.compile(loss=sparse_categorical_crossentropy,\n",
    "                  optimizer=Adam(learning_rate),\n",
    "                  metrics=['accuracy'])  \n",
    "    return model"
   ]
  },
  {
   "cell_type": "code",
   "execution_count": 758,
   "metadata": {
    "collapsed": true
   },
   "outputs": [],
   "source": [
    "tmp_x = pad(preproc_tamil_sentences, preproc_english_sentences.shape[1])\n",
    "tmp_x = tmp_x.reshape((-1, preproc_english_sentences.shape[-2], 1))"
   ]
  },
  {
   "cell_type": "code",
   "execution_count": 759,
   "metadata": {},
   "outputs": [
    {
     "data": {
      "text/plain": [
       "(1000, 74, 1)"
      ]
     },
     "execution_count": 759,
     "metadata": {},
     "output_type": "execute_result"
    }
   ],
   "source": [
    "tmp_x.shape"
   ]
  },
  {
   "cell_type": "code",
   "execution_count": 704,
   "metadata": {},
   "outputs": [
    {
     "name": "stdout",
     "output_type": "stream",
     "text": [
      "_________________________________________________________________\n",
      "Layer (type)                 Output Shape              Param #   \n",
      "=================================================================\n",
      "bidirectional_4 (Bidirection (None, 74, 256)           133120    \n",
      "_________________________________________________________________\n",
      "time_distributed_16 (TimeDis (None, 74, 9412)          2418884   \n",
      "=================================================================\n",
      "Total params: 2,552,004\n",
      "Trainable params: 2,552,004\n",
      "Non-trainable params: 0\n",
      "_________________________________________________________________\n",
      "Train on 800 samples, validate on 200 samples\n",
      "Epoch 1/20\n",
      "800/800 [==============================] - 49s 61ms/step - loss: 5.1653 - acc: 0.5324 - val_loss: 3.0281 - val_acc: 0.6714\n",
      "Epoch 2/20\n",
      "800/800 [==============================] - 45s 56ms/step - loss: 3.2625 - acc: 0.6895 - val_loss: 3.4146 - val_acc: 0.6980\n",
      "Epoch 3/20\n",
      "800/800 [==============================] - 44s 55ms/step - loss: 3.2967 - acc: 0.6894 - val_loss: 3.2523 - val_acc: 0.6972\n",
      "Epoch 4/20\n",
      "800/800 [==============================] - 46s 58ms/step - loss: 3.1525 - acc: 0.6858 - val_loss: 3.1278 - val_acc: 0.6941\n",
      "Epoch 5/20\n",
      "800/800 [==============================] - 51s 64ms/step - loss: 3.0695 - acc: 0.6868 - val_loss: 3.0725 - val_acc: 0.6839\n",
      "Epoch 6/20\n",
      "800/800 [==============================] - 49s 61ms/step - loss: 2.9983 - acc: 0.6889 - val_loss: 3.0500 - val_acc: 0.6891\n",
      "Epoch 7/20\n",
      "800/800 [==============================] - 45s 56ms/step - loss: 2.9581 - acc: 0.6902 - val_loss: 3.0083 - val_acc: 0.6957\n",
      "Epoch 8/20\n",
      "800/800 [==============================] - 44s 55ms/step - loss: 2.8961 - acc: 0.6935 - val_loss: 2.9989 - val_acc: 0.6961\n",
      "Epoch 9/20\n",
      "800/800 [==============================] - 44s 56ms/step - loss: 2.8855 - acc: 0.6942 - val_loss: 2.9774 - val_acc: 0.6885\n",
      "Epoch 10/20\n",
      "800/800 [==============================] - 45s 56ms/step - loss: 2.8762 - acc: 0.6934 - val_loss: 2.9913 - val_acc: 0.6978\n",
      "Epoch 11/20\n",
      "800/800 [==============================] - 45s 56ms/step - loss: 2.8583 - acc: 0.6956 - val_loss: 2.9705 - val_acc: 0.6994\n",
      "Epoch 12/20\n",
      "800/800 [==============================] - 46s 57ms/step - loss: 2.8433 - acc: 0.6965 - val_loss: 2.9583 - val_acc: 0.7000\n",
      "Epoch 13/20\n",
      "800/800 [==============================] - 45s 56ms/step - loss: 2.8333 - acc: 0.6965 - val_loss: 2.9799 - val_acc: 0.6995\n",
      "Epoch 14/20\n",
      "800/800 [==============================] - 44s 55ms/step - loss: 2.8285 - acc: 0.6954 - val_loss: 2.9696 - val_acc: 0.6920\n",
      "Epoch 15/20\n",
      "800/800 [==============================] - 44s 56ms/step - loss: 2.8089 - acc: 0.6956 - val_loss: 2.9865 - val_acc: 0.6862\n",
      "Epoch 16/20\n",
      "800/800 [==============================] - 44s 55ms/step - loss: 2.8176 - acc: 0.6957 - val_loss: 2.9690 - val_acc: 0.6995\n",
      "Epoch 17/20\n",
      "800/800 [==============================] - 44s 55ms/step - loss: 2.8129 - acc: 0.6966 - val_loss: 3.1016 - val_acc: 0.6865\n",
      "Epoch 18/20\n",
      "800/800 [==============================] - 44s 55ms/step - loss: 2.9342 - acc: 0.6911 - val_loss: 3.0579 - val_acc: 0.6851\n",
      "Epoch 19/20\n",
      "800/800 [==============================] - 44s 55ms/step - loss: 2.8803 - acc: 0.6930 - val_loss: 3.0112 - val_acc: 0.6975\n",
      "Epoch 20/20\n",
      "800/800 [==============================] - 44s 55ms/step - loss: 2.8544 - acc: 0.6961 - val_loss: 3.0023 - val_acc: 0.6982\n"
     ]
    }
   ],
   "source": [
    "bi_rnn_model = birnn_model(\n",
    "    tmp_x.shape,\n",
    "    preproc_english_sentences.shape[1],\n",
    "    len(english_tokenizer.word_index)+1,\n",
    "    len(tamil_tokenizer.word_index)+1)\n",
    "\n",
    "if os.path.exists(os.path.join(\"model\", \"biRnn.h5\"))== False:\n",
    "    bi_rnn_model.fit(tmp_x, preproc_english_sentences, batch_size=100, epochs=20, validation_split=0.2)\n",
    "else:\n",
    "    bi_rnn_model = load_model(os.path.join(\"model\", \"biRnn.h5\"))"
   ]
  },
  {
   "cell_type": "code",
   "execution_count": 705,
   "metadata": {},
   "outputs": [],
   "source": [
    "bi_rnn_model.save(os.path.join(\"model\", \"biRnn.h5\"))"
   ]
  },
  {
   "cell_type": "code",
   "execution_count": 706,
   "metadata": {},
   "outputs": [
    {
     "name": "stdout",
     "output_type": "stream",
     "text": [
      "Train accurancy:  0.6972837781906128\n"
     ]
    }
   ],
   "source": [
    "score = bi_rnn_model.evaluate(tmp_x, preproc_english_sentences, verbose=0)\n",
    "print(\"Train accurancy: \", score[1])"
   ]
  },
  {
   "cell_type": "code",
   "execution_count": 719,
   "metadata": {},
   "outputs": [
    {
     "data": {
      "text/plain": [
       "'விடுதலைப் பிரகடனம் போரின் இராணுவத் தேவைகளை ஒட்டி ஏற்பட்டது'"
      ]
     },
     "execution_count": 719,
     "metadata": {},
     "output_type": "execute_result"
    }
   ],
   "source": [
    "x[15]"
   ]
  },
  {
   "cell_type": "markdown",
   "metadata": {},
   "source": [
    "## It looks like they are performing worse.....so embeddings seem to be important"
   ]
  },
  {
   "cell_type": "code",
   "execution_count": 718,
   "metadata": {},
   "outputs": [
    {
     "name": "stdout",
     "output_type": "stream",
     "text": [
      "so the the endure the removal speaking concern the spokesman speaking specialised <PAD> <PAD> <PAD> <PAD> <PAD> <PAD> <PAD> <PAD> <PAD> <PAD> <PAD> <PAD> <PAD> <PAD> <PAD> <PAD> <PAD> <PAD> <PAD> <PAD> <PAD> <PAD> <PAD> <PAD> <PAD> <PAD> <PAD> <PAD> <PAD> <PAD> <PAD> <PAD> <PAD> <PAD> <PAD> <PAD> <PAD> <PAD> <PAD> <PAD> <PAD> <PAD> <PAD> <PAD> <PAD> <PAD> <PAD> <PAD> <PAD> <PAD> <PAD> <PAD> <PAD> <PAD> <PAD> <PAD> <PAD> <PAD> <PAD> <PAD> <PAD> <PAD>\n"
     ]
    }
   ],
   "source": [
    "print(logits_to_text(bi_rnn_model.predict(tmp_x[:100])[15], english_tokenizer))"
   ]
  },
  {
   "cell_type": "markdown",
   "metadata": {},
   "source": [
    "![alt overfitting](https://media.giphy.com/media/l44Q5OXJ6qaNr838Q/giphy.gif)"
   ]
  },
  {
   "cell_type": "markdown",
   "metadata": {},
   "source": [
    "# Encoder-Decoder Model with Embedding:\n",
    "\n",
    "An encoder/Decoder in deep learning is a technique used mainly in text generation. Mostly nowadays in text translation models. The global method is called “sequence to sequence” . As you have an input sequence (in tamil for example) and you will translate it in english, so you generate another sequence.\n",
    "\n",
    "Generally, the encoder encodes the input sequence to an internal representation called 'context vector' which is used by the decoder to generate the output sequence. The lengths of input and output sequences can be different, as there is no explicit one on one relation between the input and output sequences\n",
    "\n"
   ]
  },
  {
   "cell_type": "code",
   "execution_count": 768,
   "metadata": {
    "collapsed": true
   },
   "outputs": [],
   "source": [
    "from keras.layers import RepeatVector\n",
    "def encdec_model(input_shape, output_sequence_length, tamil_vocab_size, english_vocab_size, learning_rate=0.01):\n",
    "    model = Sequential()\n",
    "    model.add(Embedding(max(tamil_vocab_size, english_vocab_size) ,128 , input_length=output_sequence_length))\n",
    "    model.add(LSTM(128, input_shape=input_shape[1:], return_sequences=False) )\n",
    "    model.add(RepeatVector(output_sequence_length))\n",
    "    model.add(LSTM(128, return_sequences=True) )\n",
    "    model.add(TimeDistributed(Dense(english_vocab_size, activation='softmax') ))\n",
    "    model.summary()    \n",
    "    model.compile(loss=sparse_categorical_crossentropy,\n",
    "                  optimizer=Adam(learning_rate),\n",
    "                  metrics=['accuracy'])\n",
    "    return model"
   ]
  },
  {
   "cell_type": "code",
   "execution_count": 763,
   "metadata": {},
   "outputs": [
    {
     "data": {
      "text/plain": [
       "(1000, 74)"
      ]
     },
     "execution_count": 763,
     "metadata": {},
     "output_type": "execute_result"
    }
   ],
   "source": [
    "tmp_x = pad(preproc_tamil_sentences, preproc_english_sentences.shape[1])\n",
    "tmp_x.shape"
   ]
  },
  {
   "cell_type": "code",
   "execution_count": 737,
   "metadata": {},
   "outputs": [
    {
     "name": "stdout",
     "output_type": "stream",
     "text": [
      "_________________________________________________________________\n",
      "Layer (type)                 Output Shape              Param #   \n",
      "=================================================================\n",
      "embedding_8 (Embedding)      (None, 74, 128)           1204736   \n",
      "_________________________________________________________________\n",
      "lstm_14 (LSTM)               (None, 128)               131584    \n",
      "_________________________________________________________________\n",
      "repeat_vector_6 (RepeatVecto (None, 74, 128)           0         \n",
      "_________________________________________________________________\n",
      "lstm_15 (LSTM)               (None, 74, 128)           131584    \n",
      "_________________________________________________________________\n",
      "time_distributed_20 (TimeDis (None, 74, 5520)          712080    \n",
      "=================================================================\n",
      "Total params: 2,179,984\n",
      "Trainable params: 2,179,984\n",
      "Non-trainable params: 0\n",
      "_________________________________________________________________\n",
      "train\n",
      "Train on 800 samples, validate on 200 samples\n",
      "Epoch 1/20\n",
      "800/800 [==============================] - 36s 45ms/step - loss: 5.6839 - acc: 0.5951 - val_loss: 3.0254 - val_acc: 0.6841\n",
      "Epoch 2/20\n",
      "800/800 [==============================] - 29s 36ms/step - loss: 3.3196 - acc: 0.6807 - val_loss: 3.1996 - val_acc: 0.6841\n",
      "Epoch 3/20\n",
      "800/800 [==============================] - 28s 35ms/step - loss: 3.0479 - acc: 0.6807 - val_loss: 3.1047 - val_acc: 0.6841\n",
      "Epoch 4/20\n",
      "800/800 [==============================] - 27s 34ms/step - loss: 2.9541 - acc: 0.6807 - val_loss: 3.0784 - val_acc: 0.6841\n",
      "Epoch 5/20\n",
      "800/800 [==============================] - 30s 38ms/step - loss: 2.8922 - acc: 0.6807 - val_loss: 3.0560 - val_acc: 0.6841\n",
      "Epoch 6/20\n",
      "800/800 [==============================] - 28s 35ms/step - loss: 2.8850 - acc: 0.6807 - val_loss: 3.0492 - val_acc: 0.6841\n",
      "Epoch 7/20\n",
      "800/800 [==============================] - 28s 35ms/step - loss: 2.8720 - acc: 0.6807 - val_loss: 3.0394 - val_acc: 0.6841\n",
      "Epoch 8/20\n",
      "800/800 [==============================] - 29s 37ms/step - loss: 2.8644 - acc: 0.6807 - val_loss: 3.0375 - val_acc: 0.6841\n",
      "Epoch 9/20\n",
      "800/800 [==============================] - 28s 35ms/step - loss: 2.8639 - acc: 0.6807 - val_loss: 3.0361 - val_acc: 0.6841\n",
      "Epoch 10/20\n",
      "800/800 [==============================] - 28s 35ms/step - loss: 2.8622 - acc: 0.6807 - val_loss: 3.0394 - val_acc: 0.6841\n",
      "Epoch 11/20\n",
      "800/800 [==============================] - 32s 40ms/step - loss: 2.8626 - acc: 0.6807 - val_loss: 3.0374 - val_acc: 0.6841\n",
      "Epoch 12/20\n",
      "800/800 [==============================] - 28s 35ms/step - loss: 2.8626 - acc: 0.6807 - val_loss: 3.0320 - val_acc: 0.6841\n",
      "Epoch 13/20\n",
      "800/800 [==============================] - 29s 36ms/step - loss: 2.8618 - acc: 0.6807 - val_loss: 3.0356 - val_acc: 0.6841\n",
      "Epoch 14/20\n",
      "800/800 [==============================] - 29s 36ms/step - loss: 2.8605 - acc: 0.6807 - val_loss: 3.0343 - val_acc: 0.6841\n",
      "Epoch 15/20\n",
      "800/800 [==============================] - 28s 35ms/step - loss: 2.8635 - acc: 0.6807 - val_loss: 3.0342 - val_acc: 0.6841\n",
      "Epoch 16/20\n",
      "800/800 [==============================] - 27s 34ms/step - loss: 2.8608 - acc: 0.6807 - val_loss: 3.0328 - val_acc: 0.6841\n",
      "Epoch 17/20\n",
      "800/800 [==============================] - 27s 34ms/step - loss: 2.8630 - acc: 0.6807 - val_loss: 3.0356 - val_acc: 0.6841\n",
      "Epoch 18/20\n",
      "800/800 [==============================] - 28s 34ms/step - loss: 2.8613 - acc: 0.6807 - val_loss: 3.0340 - val_acc: 0.6841\n",
      "Epoch 19/20\n",
      "800/800 [==============================] - 31s 38ms/step - loss: 2.8587 - acc: 0.6807 - val_loss: 3.0341 - val_acc: 0.6841\n",
      "Epoch 20/20\n",
      "800/800 [==============================] - 29s 36ms/step - loss: 2.8602 - acc: 0.6807 - val_loss: 3.0391 - val_acc: 0.6841\n"
     ]
    }
   ],
   "source": [
    "encdec_rnn_model = encdec_model(\n",
    "    tmp_x.shape,\n",
    "    preproc_english_sentences.shape[1],\n",
    "    len(tamil_tokenizer.word_index)+1,\n",
    "    len(english_tokenizer.word_index)+1)\n",
    "\n",
    "if os.path.exists(os.path.join(\"model\", \"encdec.h5\"))== False:\n",
    "    print(\"train\")\n",
    "    ed = encdec_rnn_model.fit(tmp_x, preproc_english_sentences, batch_size=100, epochs=5 ,validation_split=0.2)\n",
    "else:\n",
    "    print(\"load\")\n",
    "    encdec_rnn_model = load_model(os.path.join(\"model\", \"encdec.h5\"))"
   ]
  },
  {
   "cell_type": "markdown",
   "metadata": {},
   "source": [
    "## The Validation accuracy is not changing....so let's tinker with the hyperparameters"
   ]
  },
  {
   "cell_type": "code",
   "execution_count": 739,
   "metadata": {},
   "outputs": [],
   "source": [
    "encdec_rnn_model.save(os.path.join(\"model\", \"encdec.h5\"))"
   ]
  },
  {
   "cell_type": "code",
   "execution_count": 740,
   "metadata": {},
   "outputs": [
    {
     "data": {
      "image/png": "[encoded data removed]",
      "text/plain": [
       "<Figure size 720x432 with 1 Axes>"
      ]
     },
     "metadata": {},
     "output_type": "display_data"
    }
   ],
   "source": [
    "plt.figure(figsize=(10,6))\n",
    "plt.plot(ed.history['loss'])\n",
    "plt.plot(ed.history['val_loss'])\n",
    "plt.title('Loss')\n",
    "plt.ylabel('loss')\n",
    "plt.xlabel('epoch')\n",
    "plt.legend(['train', 'test'], loc='upper left')\n",
    "plt.show()"
   ]
  },
  {
   "cell_type": "markdown",
   "metadata": {},
   "source": [
    "## Wow....looks like some serious issues"
   ]
  },
  {
   "cell_type": "markdown",
   "metadata": {},
   "source": [
    "![alt problems](https://media.giphy.com/media/3oEduRCITWQ5BruE8g/giphy.gif)"
   ]
  },
  {
   "cell_type": "code",
   "execution_count": 741,
   "metadata": {},
   "outputs": [
    {
     "name": "stdout",
     "output_type": "stream",
     "text": [
      "Train accurancy:  0.6813648600578308\n"
     ]
    }
   ],
   "source": [
    "score = encdec_rnn_model.evaluate(tmp_x, preproc_english_sentences, verbose=0)\n",
    "print(\"Train accurancy: \", score[1])"
   ]
  },
  {
   "cell_type": "code",
   "execution_count": 742,
   "metadata": {},
   "outputs": [
    {
     "data": {
      "text/plain": [
       "'பள்ளி மாணவர்கள் மற்றும் பல்கலைக்கழக மாணவர்கள் பிரான்ஸ் நெடுகிலும் நெடுஞ்சாலைகள் வீதிகள் ஆகியவற்றை தடுப்புக்களுக்கு உட்படுத்திய வகையில் நேற்று இன்னும் கூடுதலான கைதுகள் நிகழ்த்தப்பட்டன'"
      ]
     },
     "execution_count": 742,
     "metadata": {},
     "output_type": "execute_result"
    }
   ],
   "source": [
    "x[10]"
   ]
  },
  {
   "cell_type": "code",
   "execution_count": 746,
   "metadata": {},
   "outputs": [
    {
     "name": "stdout",
     "output_type": "stream",
     "text": [
      "<PAD> <PAD> <PAD> <PAD> <PAD> <PAD> <PAD> <PAD> <PAD> <PAD> <PAD> <PAD> <PAD> <PAD> <PAD> <PAD> <PAD> <PAD> <PAD> <PAD> <PAD> <PAD> <PAD> <PAD> <PAD> <PAD> <PAD> <PAD> <PAD> <PAD> <PAD> <PAD> <PAD> <PAD> <PAD> <PAD> <PAD> <PAD> <PAD> <PAD> <PAD> <PAD> <PAD> <PAD> <PAD> <PAD> <PAD> <PAD> <PAD> <PAD> <PAD> <PAD> <PAD> <PAD> <PAD> <PAD> <PAD> <PAD> <PAD> <PAD> <PAD> <PAD> <PAD> <PAD> <PAD> <PAD> <PAD> <PAD> <PAD> <PAD> <PAD> <PAD> <PAD> <PAD>\n"
     ]
    }
   ],
   "source": [
    "print(logits_to_text(encdec_rnn_model.predict(tmp_x[:100])[13], english_tokenizer))"
   ]
  },
  {
   "cell_type": "markdown",
   "metadata": {},
   "source": [
    "## Tuning and playing with values to see if accuracy increases"
   ]
  },
  {
   "cell_type": "code",
   "execution_count": 781,
   "metadata": {},
   "outputs": [
    {
     "name": "stdout",
     "output_type": "stream",
     "text": [
      "_________________________________________________________________\n",
      "Layer (type)                 Output Shape              Param #   \n",
      "=================================================================\n",
      "embedding_29 (Embedding)     (None, 74, 128)           1204736   \n",
      "_________________________________________________________________\n",
      "lstm_56 (LSTM)               (None, 128)               131584    \n",
      "_________________________________________________________________\n",
      "repeat_vector_27 (RepeatVect (None, 74, 128)           0         \n",
      "_________________________________________________________________\n",
      "lstm_57 (LSTM)               (None, 74, 128)           131584    \n",
      "_________________________________________________________________\n",
      "time_distributed_41 (TimeDis (None, 74, 5520)          712080    \n",
      "=================================================================\n",
      "Total params: 2,179,984\n",
      "Trainable params: 2,179,984\n",
      "Non-trainable params: 0\n",
      "_________________________________________________________________\n",
      "train\n",
      "Train on 900 samples, validate on 100 samples\n",
      "Epoch 1/3\n",
      "900/900 [==============================] - 51s 57ms/step - loss: 8.6103 - acc: 0.3037 - val_loss: 8.5971 - val_acc: 0.6854\n",
      "Epoch 2/3\n",
      "900/900 [==============================] - 33s 37ms/step - loss: 8.5823 - acc: 0.6809 - val_loss: 8.5616 - val_acc: 0.6854\n",
      "Epoch 3/3\n",
      "900/900 [==============================] - 31s 34ms/step - loss: 8.5440 - acc: 0.6809 - val_loss: 8.5201 - val_acc: 0.6854\n"
     ]
    }
   ],
   "source": [
    "from keras import losses\n",
    "from keras.optimizers import SGD\n",
    "from keras.layers import RepeatVector\n",
    "def encdec_model(input_shape, output_sequence_length, tamil_vocab_size, english_vocab_size, learning_rate=0.001):\n",
    "    model = Sequential()\n",
    "    model.add(Embedding(max(tamil_vocab_size, english_vocab_size) ,128 , input_length=output_sequence_length))\n",
    "    model.add(LSTM(128, input_shape=input_shape[1:], return_sequences=False) )\n",
    "    model.add(RepeatVector(output_sequence_length))\n",
    "    model.add(LSTM(128, return_sequences=True) )\n",
    "    model.add(TimeDistributed(Dense(english_vocab_size, activation='softmax') ))\n",
    "    model.summary()  \n",
    "    sgd = optimizers.SGD(lr=0.001, decay=1e-6, momentum=0.9, nesterov=True)\n",
    "\n",
    "    \n",
    "    model.compile(loss='sparse_categorical_crossentropy',\n",
    "                  optimizer=sgd,\n",
    "                  metrics=['accuracy'])\n",
    "    return model\n",
    "\n",
    "encdec_rnn_model = encdec_model(\n",
    "    tmp_x.shape,\n",
    "    preproc_english_sentences.shape[1],\n",
    "    len(tamil_tokenizer.word_index)+1,\n",
    "    len(english_tokenizer.word_index)+1)\n",
    "\n",
    "if os.path.exists(os.path.join(\"model\", \"tuned.h5\"))== False:\n",
    "    print(\"train\")\n",
    "    ed = encdec_rnn_model.fit(tmp_x, preproc_english_sentences, batch_size=100, epochs=3 ,validation_split=0.1)\n",
    "else:\n",
    "    print(\"load\")\n",
    "    encdec_rnn_model = load_model(os.path.join(\"model\", \"tuned.h5\"))"
   ]
  },
  {
   "cell_type": "markdown",
   "metadata": {},
   "source": [
    "## Accuracy still remains the same even tho loss decreases"
   ]
  },
  {
   "cell_type": "code",
   "execution_count": 785,
   "metadata": {},
   "outputs": [
    {
     "data": {
      "image/png": "[encoded data removed]",
      "text/plain": [
       "<Figure size 720x432 with 1 Axes>"
      ]
     },
     "metadata": {},
     "output_type": "display_data"
    }
   ],
   "source": [
    "plt.figure(figsize=(10,6))\n",
    "plt.plot(ed.history['loss'])\n",
    "plt.plot(ed.history['val_loss'])\n",
    "plt.title('Loss')\n",
    "plt.ylabel('loss')\n",
    "plt.xlabel('epoch')\n",
    "plt.legend(['train', 'test'], loc='upper left')\n",
    "plt.show()"
   ]
  },
  {
   "cell_type": "markdown",
   "metadata": {},
   "source": [
    "## It seems like a single layer LSTM with embeddings give the best results"
   ]
  },
  {
   "cell_type": "code",
   "execution_count": 784,
   "metadata": {},
   "outputs": [
    {
     "name": "stdout",
     "output_type": "stream",
     "text": [
      "<PAD> <PAD> <PAD> <PAD> <PAD> <PAD> <PAD> <PAD> <PAD> <PAD> <PAD> <PAD> <PAD> <PAD> <PAD> <PAD> <PAD> <PAD> <PAD> <PAD> <PAD> <PAD> <PAD> <PAD> <PAD> <PAD> <PAD> <PAD> <PAD> <PAD> <PAD> <PAD> <PAD> <PAD> <PAD> <PAD> <PAD> <PAD> <PAD> <PAD> <PAD> <PAD> <PAD> <PAD> <PAD> <PAD> <PAD> <PAD> <PAD> <PAD> <PAD> <PAD> <PAD> <PAD> <PAD> <PAD> <PAD> <PAD> <PAD> <PAD> <PAD> <PAD> <PAD> <PAD> <PAD> <PAD> <PAD> <PAD> <PAD> <PAD> <PAD> <PAD> <PAD> <PAD>\n"
     ]
    }
   ],
   "source": [
    "print(logits_to_text(encdec_rnn_model.predict(tmp_x[:100])[5], english_tokenizer))"
   ]
  },
  {
   "cell_type": "markdown",
   "metadata": {},
   "source": [
    "### Reference:\n",
    "\n",
    "https://github.com/Barqawiz/aind2-nlp-capstone-translation/blob/master/machine_translation.ipynb\n",
    "\n"
   ]
  }
 ],
 "metadata": {
  "kernelspec": {
   "display_name": "Python 3",
   "language": "python",
   "name": "python3"
  },
  "language_info": {
   "codemirror_mode": {
    "name": "ipython",
    "version": 3
   },
   "file_extension": ".py",
   "mimetype": "text/x-python",
   "name": "python",
   "nbconvert_exporter": "python",
   "pygments_lexer": "ipython3",
   "version": "3.6.3"
  }
 },
 "nbformat": 4,
 "nbformat_minor": 2
}
